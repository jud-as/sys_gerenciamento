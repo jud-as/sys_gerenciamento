{
 "cells": [
  {
   "cell_type": "code",
   "execution_count": 8,
   "metadata": {},
   "outputs": [],
   "source": [
    "#Importar bibliotecas, classes e módulos.\n",
    "\n",
    "import mysql.connector\n",
    "from connection import estabelecer_conexao, desligar_conexao, cursor\n",
    "from classes import SwitchCase"
   ]
  },
  {
   "cell_type": "code",
   "execution_count": null,
   "metadata": {},
   "outputs": [],
   "source": [
    "#Instanciar switch case, Menu de opções\n",
    "\n",
    "def case1():\n",
    "    print(\"adicionar registro\")\n",
    "    \n",
    "def case2():\n",
    "    print(\"remover registro\")\n",
    "    \n",
    "def case3():\n",
    "    print(\"listar registros\")\n",
    "\n",
    "switcher = SwitchCase()\n",
    "switcher.add_case(1, case1)\n",
    "switcher.add_case(2, case2)\n",
    "switcher.add_case(3, case3)\n",
    "\n",
    "opcoes_validas = [1, 2, 3]\n",
    "\n",
    "print(\"1 - Adicionar Registro.\\n2 - Remover Registro.\\n3 - Listar Registros.\")\n",
    "\n",
    "while True:\n",
    "    try:\n",
    "        user_choice = int(input(\"\\nEscolha uma opção: \"))\n",
    "        if user_choice in opcoes_validas:\n",
    "            switcher.execute(user_choice)\n",
    "            break\n",
    "        else:\n",
    "            print(\"ERRO: Insira uma opção válida.\")\n",
    "    except ValueError:\n",
    "        print(\"ERRO: Insira um tipo válido.\")"
   ]
  },
  {
   "cell_type": "code",
   "execution_count": null,
   "metadata": {},
   "outputs": [],
   "source": []
  }
 ],
 "metadata": {
  "kernelspec": {
   "display_name": "Python 3",
   "language": "python",
   "name": "python3"
  },
  "language_info": {
   "codemirror_mode": {
    "name": "ipython",
    "version": 3
   },
   "file_extension": ".py",
   "mimetype": "text/x-python",
   "name": "python",
   "nbconvert_exporter": "python",
   "pygments_lexer": "ipython3",
   "version": "3.12.0"
  }
 },
 "nbformat": 4,
 "nbformat_minor": 2
}
