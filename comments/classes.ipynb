{
 "cells": [
  {
   "cell_type": "markdown",
   "metadata": {},
   "source": [
    "ARQUIVO REFERENTE AS CLASSES DE FORMA GERAL. INCLUI-SE CLASSES QUE SERÃO UTILIZADAS NOS DEMAIS MÓDULOS. SWITCHES, MENUS E FUNÇÕES NÃO ESPECÍFICAS."
   ]
  },
  {
   "cell_type": "code",
   "execution_count": 1,
   "metadata": {},
   "outputs": [],
   "source": [
    "class SwitchCase:\n",
    "    def __init__(self):\n",
    "        self._cases = {}\n",
    "        \n",
    "    def add_case(self, case, function):\n",
    "        \"\"\"Adiciona um caso e a função correspondente\"\"\"\n",
    "        self._cases[case] = function\n",
    "    \n",
    "    def execute(self, case):\n",
    "        \"\"\"Executa a função associada ao caso\"\"\"\n",
    "        selected_function = self._cases.get(case)\n",
    "        if selected_function:\n",
    "            selected_function()            "
   ]
  },
  {
   "cell_type": "code",
   "execution_count": null,
   "metadata": {},
   "outputs": [],
   "source": []
  }
 ],
 "metadata": {
  "kernelspec": {
   "display_name": "Python 3",
   "language": "python",
   "name": "python3"
  },
  "language_info": {
   "codemirror_mode": {
    "name": "ipython",
    "version": 3
   },
   "file_extension": ".py",
   "mimetype": "text/x-python",
   "name": "python",
   "nbconvert_exporter": "python",
   "pygments_lexer": "ipython3",
   "version": "3.12.0"
  }
 },
 "nbformat": 4,
 "nbformat_minor": 2
}
