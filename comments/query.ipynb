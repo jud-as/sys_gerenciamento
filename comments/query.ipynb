{
 "cells": [
  {
   "cell_type": "code",
   "execution_count": 7,
   "metadata": {},
   "outputs": [],
   "source": [
    "from connection import estabelecer_conexao, desligar_conexao, cursor"
   ]
  },
  {
   "cell_type": "markdown",
   "metadata": {},
   "source": [
    "comando = '' #comandos entre '', str entre \"\".\n",
    "cursor.execute(comando)\n",
    "edição de banco de dados -> (CREATE, DELETE, UPDATE): conexao.comit()\n",
    "resultado = cursor.fetchall() -> leitura do banco de dados\n",
    "----------------------\n",
    "EX1'\n",
    "DataVencimento = \"2020-08-30\"\n",
    "Categoria = \"IMPOSTO\"\n",
    "Descricao = \"AUMENTO DE 5%\" \n",
    "\n",
    "-> comando = \n",
    "\n",
    "f'INSERT INTO gastos \n",
    "(ID_SALA, DataVencimento, Valor, Categoria, Descricao)'\n",
    "VALUES\n",
    "(1, \"{2020-08-30}\", 1250.00, \"{Categoria}\", \"{AUMENTO DE 5%}\")"
   ]
  }
 ],
 "metadata": {
  "kernelspec": {
   "display_name": "Python 3",
   "language": "python",
   "name": "python3"
  },
  "language_info": {
   "codemirror_mode": {
    "name": "ipython",
    "version": 3
   },
   "file_extension": ".py",
   "mimetype": "text/x-python",
   "name": "python",
   "nbconvert_exporter": "python",
   "pygments_lexer": "ipython3",
   "version": "3.12.0"
  }
 },
 "nbformat": 4,
 "nbformat_minor": 2
}
