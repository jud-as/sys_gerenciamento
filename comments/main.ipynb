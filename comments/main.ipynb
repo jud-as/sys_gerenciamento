{
 "cells": [
  {
   "cell_type": "code",
   "execution_count": 2,
   "metadata": {},
   "outputs": [
    {
     "ename": "ImportError",
     "evalue": "attempted relative import with no known parent package",
     "output_type": "error",
     "traceback": [
      "\u001b[1;31m---------------------------------------------------------------------------\u001b[0m",
      "\u001b[1;31mImportError\u001b[0m                               Traceback (most recent call last)",
      "\u001b[1;32mc:\\Users\\guilh\\OneDrive\\Área de Trabalho\\Serial Experiments\\python\\sys_gerenciamento\\comments\\main.ipynb Cell 1\u001b[0m line \u001b[0;36m2\n\u001b[0;32m      <a href='vscode-notebook-cell:/c%3A/Users/guilh/OneDrive/%C3%81rea%20de%20Trabalho/Serial%20Experiments/python/sys_gerenciamento/comments/main.ipynb#W0sZmlsZQ%3D%3D?line=0'>1</a>\u001b[0m \u001b[39m#Importar bibliotecas, classes e módulos.\u001b[39;00m\n\u001b[1;32m----> <a href='vscode-notebook-cell:/c%3A/Users/guilh/OneDrive/%C3%81rea%20de%20Trabalho/Serial%20Experiments/python/sys_gerenciamento/comments/main.ipynb#W0sZmlsZQ%3D%3D?line=1'>2</a>\u001b[0m \u001b[39mfrom\u001b[39;00m \u001b[39m.\u001b[39;00m\u001b[39m.\u001b[39;00m\u001b[39mclasses\u001b[39;00m \u001b[39mimport\u001b[39;00m SwitchCase\n\u001b[0;32m      <a href='vscode-notebook-cell:/c%3A/Users/guilh/OneDrive/%C3%81rea%20de%20Trabalho/Serial%20Experiments/python/sys_gerenciamento/comments/main.ipynb#W0sZmlsZQ%3D%3D?line=2'>3</a>\u001b[0m \u001b[39mfrom\u001b[39;00m \u001b[39mdatabase\u001b[39;00m\u001b[39m.\u001b[39;00m\u001b[39muser_controler\u001b[39;00m \u001b[39mimport\u001b[39;00m UserController \n",
      "\u001b[1;31mImportError\u001b[0m: attempted relative import with no known parent package"
     ]
    }
   ],
   "source": [
    "#Importar bibliotecas, classes e módulos.\n",
    "from classes import SwitchCase\n",
    "from database.user_controler import UserController "
   ]
  },
  {
   "cell_type": "code",
   "execution_count": null,
   "metadata": {},
   "outputs": [],
   "source": [
    "#Instanciar switch case, Menu de opções\n",
    "\n",
    "def case1():\n",
    "    nome_sala = input(\"Digite a identificação da sala: \")\n",
    "    user_controller = UserController()\n",
    "    user_controller.createSala(nome_sala)\n",
    "def case2():\n",
    "    print(\"remover registro\")\n",
    "    \n",
    "def case3():\n",
    "    print(\"listar registros\")\n",
    "\n",
    "switcher = SwitchCase()\n",
    "switcher.add_case(1, case1)\n",
    "switcher.add_case(2, case2)\n",
    "switcher.add_case(3, case3)\n",
    "\n",
    "opcoes_validas = [1, 2, 3]\n",
    "\n",
    "print(\"1 - Adicionar Sala.\\n2 - Remover Registro.\\n3 - Listar Registros.\")\n",
    "\n",
    "while True:\n",
    "    try:\n",
    "        user_choice = int(input(\"\\nEscolha uma opção: \"))\n",
    "        if user_choice in opcoes_validas:\n",
    "            switcher.execute(user_choice)\n",
    "            break\n",
    "        else:\n",
    "            print(\"ERRO: Insira uma opção válida.\")\n",
    "    except ValueError:\n",
    "        print(\"ERRO: Insira um tipo válido.\")"
   ]
  },
  {
   "cell_type": "code",
   "execution_count": null,
   "metadata": {},
   "outputs": [],
   "source": []
  }
 ],
 "metadata": {
  "kernelspec": {
   "display_name": "Python 3",
   "language": "python",
   "name": "python3"
  },
  "language_info": {
   "codemirror_mode": {
    "name": "ipython",
    "version": 3
   },
   "file_extension": ".py",
   "mimetype": "text/x-python",
   "name": "python",
   "nbconvert_exporter": "python",
   "pygments_lexer": "ipython3",
   "version": "3.12.0"
  }
 },
 "nbformat": 4,
 "nbformat_minor": 2
}
